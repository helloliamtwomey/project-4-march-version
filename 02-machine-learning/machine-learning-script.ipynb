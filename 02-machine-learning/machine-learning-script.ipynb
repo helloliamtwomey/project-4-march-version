{
 "cells": [
  {
   "cell_type": "code",
   "execution_count": 1,
   "id": "297b6a49",
   "metadata": {},
   "outputs": [],
   "source": [
    "# Import libraries\n",
    "from sklearn.model_selection import train_test_split\n",
    "from sklearn.preprocessing import StandardScaler, MinMaxScaler, LabelEncoder\n",
    "from sklearn.ensemble import RandomForestClassifier\n",
    "from sklearn.linear_model import LogisticRegression\n",
    "from sklearn.svm import SVC\n",
    "from sklearn.feature_extraction.text import CountVectorizer\n",
    "from sklearn.metrics import classification_report\n",
    "from sklearn.metrics import confusion_matrix\n",
    "\n",
    "from nltk.stem import WordNetLemmatizer\n",
    "from nltk.corpus import wordnet\n",
    "\n",
    "import pandas as pd\n",
    "import numpy as np\n",
    "import re\n",
    "import string\n",
    "import contractions\n",
    "import matplotlib.pyplot as plt\n",
    "import seaborn as sns\n",
    "\n",
    "import pickle"
   ]
  },
  {
   "cell_type": "code",
   "execution_count": 2,
   "id": "2ebb4855",
   "metadata": {},
   "outputs": [
    {
     "data": {
      "text/html": [
       "<div>\n",
       "<style scoped>\n",
       "    .dataframe tbody tr th:only-of-type {\n",
       "        vertical-align: middle;\n",
       "    }\n",
       "\n",
       "    .dataframe tbody tr th {\n",
       "        vertical-align: top;\n",
       "    }\n",
       "\n",
       "    .dataframe thead th {\n",
       "        text-align: right;\n",
       "    }\n",
       "</style>\n",
       "<table border=\"1\" class=\"dataframe\">\n",
       "  <thead>\n",
       "    <tr style=\"text-align: right;\">\n",
       "      <th></th>\n",
       "      <th>reason_for_visit</th>\n",
       "      <th>symptoms</th>\n",
       "      <th>symptom_type</th>\n",
       "    </tr>\n",
       "  </thead>\n",
       "  <tbody>\n",
       "    <tr>\n",
       "      <th>0</th>\n",
       "      <td>Exposure to mold</td>\n",
       "      <td>Cough, sneezing, watery eyes</td>\n",
       "      <td>Respiratory</td>\n",
       "    </tr>\n",
       "    <tr>\n",
       "      <th>1</th>\n",
       "      <td>Respiratory infection symptoms</td>\n",
       "      <td>Can't get my breath, chest feels tight, coughi...</td>\n",
       "      <td>Respiratory</td>\n",
       "    </tr>\n",
       "    <tr>\n",
       "      <th>2</th>\n",
       "      <td>Sinus infection</td>\n",
       "      <td>Cough, congestion, sinus pressure</td>\n",
       "      <td>Respiratory</td>\n",
       "    </tr>\n",
       "    <tr>\n",
       "      <th>3</th>\n",
       "      <td>Difficulty breathing and wheezing</td>\n",
       "      <td>Difficulty breathing, wheezing, coughing</td>\n",
       "      <td>Respiratory</td>\n",
       "    </tr>\n",
       "    <tr>\n",
       "      <th>4</th>\n",
       "      <td>Bronchitis symptoms</td>\n",
       "      <td>Cough, phlegm production, chest pain</td>\n",
       "      <td>Respiratory</td>\n",
       "    </tr>\n",
       "  </tbody>\n",
       "</table>\n",
       "</div>"
      ],
      "text/plain": [
       "                    reason_for_visit  \\\n",
       "0                   Exposure to mold   \n",
       "1     Respiratory infection symptoms   \n",
       "2                    Sinus infection   \n",
       "3  Difficulty breathing and wheezing   \n",
       "4                Bronchitis symptoms   \n",
       "\n",
       "                                            symptoms symptom_type  \n",
       "0                       Cough, sneezing, watery eyes  Respiratory  \n",
       "1  Can't get my breath, chest feels tight, coughi...  Respiratory  \n",
       "2                  Cough, congestion, sinus pressure  Respiratory  \n",
       "3           Difficulty breathing, wheezing, coughing  Respiratory  \n",
       "4               Cough, phlegm production, chest pain  Respiratory  "
      ]
     },
     "execution_count": 2,
     "metadata": {},
     "output_type": "execute_result"
    }
   ],
   "source": [
    "# Load in the pre-appointment-data.csv\n",
    "df = pd.read_csv('data/pre-appointment-data.csv')\n",
    "\n",
    "# Mix the order of the data\n",
    "# df = df.sample(frac=1).reset_index(drop=True)\n",
    "\n",
    "# Drop the columns that we don't need (duration, symptom_severity, symptom_cause, additional_symptoms, medical_history, appointment_expectations, health_concerns, health_experiences)\n",
    "df = df.drop(['duration', 'symptom_severity', 'symptom_cause', 'additional_symptoms', 'medical_history', 'appointment_expectations', 'health_concerns', 'health_experiences'], axis=1)\n",
    "\n",
    "# show the first 5 rows of the data\n",
    "df.head()"
   ]
  },
  {
   "cell_type": "code",
   "execution_count": 3,
   "id": "b8c9a203",
   "metadata": {},
   "outputs": [],
   "source": [
    "# make a new dataframe with only symptom_type\n",
    "symptom_type_df = df['symptom_type']"
   ]
  },
  {
   "cell_type": "code",
   "execution_count": 4,
   "id": "fd8f0dd3",
   "metadata": {},
   "outputs": [
    {
     "data": {
      "text/html": [
       "<div>\n",
       "<style scoped>\n",
       "    .dataframe tbody tr th:only-of-type {\n",
       "        vertical-align: middle;\n",
       "    }\n",
       "\n",
       "    .dataframe tbody tr th {\n",
       "        vertical-align: top;\n",
       "    }\n",
       "\n",
       "    .dataframe thead th {\n",
       "        text-align: right;\n",
       "    }\n",
       "</style>\n",
       "<table border=\"1\" class=\"dataframe\">\n",
       "  <thead>\n",
       "    <tr style=\"text-align: right;\">\n",
       "      <th></th>\n",
       "      <th>reason_for_visit</th>\n",
       "    </tr>\n",
       "  </thead>\n",
       "  <tbody>\n",
       "    <tr>\n",
       "      <th>0</th>\n",
       "      <td>exposure to mold</td>\n",
       "    </tr>\n",
       "    <tr>\n",
       "      <th>1</th>\n",
       "      <td>respiratory infection symptoms</td>\n",
       "    </tr>\n",
       "    <tr>\n",
       "      <th>2</th>\n",
       "      <td>sinus infection</td>\n",
       "    </tr>\n",
       "    <tr>\n",
       "      <th>3</th>\n",
       "      <td>difficulty breathing and wheezing</td>\n",
       "    </tr>\n",
       "    <tr>\n",
       "      <th>4</th>\n",
       "      <td>bronchitis symptoms</td>\n",
       "    </tr>\n",
       "  </tbody>\n",
       "</table>\n",
       "</div>"
      ],
      "text/plain": [
       "                    reason_for_visit\n",
       "0                   exposure to mold\n",
       "1     respiratory infection symptoms\n",
       "2                    sinus infection\n",
       "3  difficulty breathing and wheezing\n",
       "4                bronchitis symptoms"
      ]
     },
     "execution_count": 4,
     "metadata": {},
     "output_type": "execute_result"
    }
   ],
   "source": [
    "# make a new dataframe with only reason_for_visit\n",
    "df_reason_for_visit = df[['reason_for_visit']]\n",
    "\n",
    "# lower casing\n",
    "df_reason_for_visit = df_reason_for_visit.copy()\n",
    "df_reason_for_visit['reason_for_visit'] = df_reason_for_visit['reason_for_visit'].str.lower()\n",
    "\n",
    "# expand contractions\n",
    "df_reason_for_visit = df_reason_for_visit['reason_for_visit'].str.split()\n",
    "df_reason_for_visit = df_reason_for_visit.apply(\n",
    "    lambda x: \" \".join([contractions.fix(expanded_word) for expanded_word in x])\n",
    ")\n",
    "\n",
    "# create new dataframe with expanded contractions\n",
    "df_reason_for_visit = pd.DataFrame(df_reason_for_visit)\n",
    "\n",
    "# remove punctuations '!\"#$%&'()*+,-./:;<=>?@[\\]^_`{|}~'\n",
    "df_reason_for_visit = df_reason_for_visit['reason_for_visit'].apply(\n",
    "    lambda x: re.sub('[%s]' % re.escape(string.punctuation), '' , x))\n",
    "\n",
    "# get rid of double spaces\n",
    "df_reason_for_visit = df_reason_for_visit.apply(lambda x: re.sub(' +', ' ', x))\n",
    "\n",
    "lemmatizer = WordNetLemmatizer()\n",
    "df_reason_for_visit = df_reason_for_visit.apply(lambda x: lemmatizer.lemmatize(x))\n",
    "\n",
    "# create a new dataframe from the lemmatized data\n",
    "df_reason_for_visit = pd.DataFrame(df_reason_for_visit)\n",
    "df_reason_for_visit.head()"
   ]
  },
  {
   "cell_type": "code",
   "execution_count": 5,
   "id": "fcd372f7",
   "metadata": {},
   "outputs": [
    {
     "data": {
      "text/html": [
       "<div>\n",
       "<style scoped>\n",
       "    .dataframe tbody tr th:only-of-type {\n",
       "        vertical-align: middle;\n",
       "    }\n",
       "\n",
       "    .dataframe tbody tr th {\n",
       "        vertical-align: top;\n",
       "    }\n",
       "\n",
       "    .dataframe thead th {\n",
       "        text-align: right;\n",
       "    }\n",
       "</style>\n",
       "<table border=\"1\" class=\"dataframe\">\n",
       "  <thead>\n",
       "    <tr style=\"text-align: right;\">\n",
       "      <th></th>\n",
       "      <th>symptoms</th>\n",
       "    </tr>\n",
       "  </thead>\n",
       "  <tbody>\n",
       "    <tr>\n",
       "      <th>0</th>\n",
       "      <td>cough sneezing watery eyes</td>\n",
       "    </tr>\n",
       "    <tr>\n",
       "      <th>1</th>\n",
       "      <td>cannot get my breath chest feels tight coughin...</td>\n",
       "    </tr>\n",
       "    <tr>\n",
       "      <th>2</th>\n",
       "      <td>cough congestion sinus pressure</td>\n",
       "    </tr>\n",
       "    <tr>\n",
       "      <th>3</th>\n",
       "      <td>difficulty breathing wheezing coughing</td>\n",
       "    </tr>\n",
       "    <tr>\n",
       "      <th>4</th>\n",
       "      <td>cough phlegm production chest pain</td>\n",
       "    </tr>\n",
       "  </tbody>\n",
       "</table>\n",
       "</div>"
      ],
      "text/plain": [
       "                                            symptoms\n",
       "0                         cough sneezing watery eyes\n",
       "1  cannot get my breath chest feels tight coughin...\n",
       "2                    cough congestion sinus pressure\n",
       "3             difficulty breathing wheezing coughing\n",
       "4                 cough phlegm production chest pain"
      ]
     },
     "execution_count": 5,
     "metadata": {},
     "output_type": "execute_result"
    }
   ],
   "source": [
    "# make a new dataframe with only symptoms\n",
    "df_symptoms = df[['symptoms']]\n",
    "\n",
    "# lower casing\n",
    "df_symptoms = df_symptoms.copy()\n",
    "df_symptoms['symptoms'] = df_symptoms['symptoms'].str.lower()\n",
    "\n",
    "# expand contractions\n",
    "df_symptoms = df_symptoms['symptoms'].str.split()\n",
    "df_symptoms = df_symptoms.apply(\n",
    "    lambda x: \" \".join([contractions.fix(expanded_word) for expanded_word in x])\n",
    ")\n",
    "\n",
    "# create new dataframe with expanded contractions\n",
    "df_symptoms = pd.DataFrame(df_symptoms)\n",
    "\n",
    "# remove punctuations '!\"#$%&'()*+,-./:;<=>?@[\\]^_`{|}~'\n",
    "df_symptoms = df_symptoms['symptoms'].apply(\n",
    "    lambda x: re.sub('[%s]' % re.escape(string.punctuation), '' , x))\n",
    "\n",
    "# get rid of double spaces\n",
    "df_symptoms = df_symptoms.apply(lambda x: re.sub(' +', ' ', x))\n",
    "\n",
    "lemmatizer = WordNetLemmatizer()\n",
    "df_symptoms = df_symptoms.apply(lambda x: lemmatizer.lemmatize(x))\n",
    "\n",
    "# create a new dataframe from the lemmatized data\n",
    "df_symptoms = pd.DataFrame(df_symptoms)\n",
    "df_symptoms.head()"
   ]
  },
  {
   "cell_type": "code",
   "execution_count": 6,
   "id": "87e8a753",
   "metadata": {},
   "outputs": [],
   "source": [
    "# combine df_reason_for_visit, df_symptoms, and symptom_type_df\n",
    "df = pd.concat([df_reason_for_visit, df_symptoms, symptom_type_df], axis=1)\n",
    "df.head()\n",
    "\n",
    "# export df to csv\n",
    "df.to_csv('data/text-pre-processing.csv', index=False)"
   ]
  },
  {
   "cell_type": "code",
   "execution_count": 7,
   "id": "0133ecf0",
   "metadata": {},
   "outputs": [],
   "source": [
    "# Load in the pre-appointment-data\n",
    "df = pd.read_csv('data/text-pre-processing.csv')\n",
    "\n",
    "# Encode the non-numeric columns\n",
    "for col in df.columns:\n",
    "    if df[col].dtype == 'object':\n",
    "        df[col] = LabelEncoder().fit_transform(df[col])\n",
    "\n",
    "# Drop the label to create the X data\n",
    "X = df.drop('symptom_type', axis=1)\n",
    "\n",
    "# df symptom_type column\n",
    "# Encode the labels\n",
    "y = LabelEncoder().fit_transform(df['symptom_type'])\n",
    "\n",
    "# Split the data into training and testing sets\n",
    "X_train, X_test, y_train, y_test = train_test_split(X, y, test_size=0.33, random_state=42)\n",
    "\n",
    "# Scale the data\n",
    "scaler = StandardScaler()\n",
    "X_train = scaler.fit_transform(X_train)\n",
    "X_test = scaler.transform(X_test)"
   ]
  },
  {
   "cell_type": "code",
   "execution_count": 8,
   "id": "44aadcfe",
   "metadata": {},
   "outputs": [
    {
     "name": "stdout",
     "output_type": "stream",
     "text": [
      "Train accuracy: 0.53\n",
      "Test accuracy: 0.42\n"
     ]
    }
   ],
   "source": [
    "# classifier from scikit-learn\n",
    "\n",
    "# Split the data into training and test sets\n",
    "X = df.drop('symptom_type', axis=1)\n",
    "y = df['symptom_type']\n",
    "\n",
    "X_train, X_test, y_train, y_test = train_test_split(X, y, test_size=0.2, random_state=42)\n",
    "\n",
    "# Preprocessing and scaling the data\n",
    "scaler = StandardScaler()\n",
    "X_train = scaler.fit_transform(X_train)\n",
    "X_test = scaler.transform(X_test)\n",
    "\n",
    "# Train a machine learning model | classifier from scikit-learn\n",
    "model = LogisticRegression(solver='lbfgs', multi_class='auto')\n",
    "model.fit(X_train, y_train)\n",
    "\n",
    "# Evaluate the model\n",
    "train_acc = model.score(X_train, y_train)\n",
    "test_acc = model.score(X_test, y_test)\n",
    "\n",
    "print(f\"Train accuracy: {train_acc:.2f}\")\n",
    "print(f\"Test accuracy: {test_acc:.2f}\")"
   ]
  },
  {
   "cell_type": "code",
   "execution_count": 9,
   "id": "2e9e0ca0",
   "metadata": {},
   "outputs": [
    {
     "name": "stdout",
     "output_type": "stream",
     "text": [
      "Train accuracy: 0.78\n",
      "Test accuracy: 0.82\n"
     ]
    }
   ],
   "source": [
    "# support vector machine (SVM)\n",
    "\n",
    "# Split the data into training and test sets\n",
    "X = df.drop('symptom_type', axis=1)\n",
    "y = df['symptom_type']\n",
    "\n",
    "X_train, X_test, y_train, y_test = train_test_split(X, y, test_size=0.2, random_state=42)\n",
    "\n",
    "# Preprocessing and scaling the data\n",
    "scaler = StandardScaler()\n",
    "X_train = scaler.fit_transform(X_train)\n",
    "X_test = scaler.transform(X_test)\n",
    "\n",
    "# Train a machine learning model | support vector machine (SVM)\n",
    "model = SVC(kernel='rbf', gamma='auto')\n",
    "model.fit(X_train, y_train)\n",
    "\n",
    "# Evaluate the model\n",
    "train_acc = model.score(X_train, y_train)\n",
    "test_acc = model.score(X_test, y_test)\n",
    "\n",
    "print(f\"Train accuracy: {train_acc:.2f}\")\n",
    "print(f\"Test accuracy: {test_acc:.2f}\")"
   ]
  },
  {
   "attachments": {},
   "cell_type": "markdown",
   "id": "04d8b6a2",
   "metadata": {},
   "source": [
    "## random forest classifier (The Winner)"
   ]
  },
  {
   "cell_type": "code",
   "execution_count": 10,
   "id": "24d2e43c",
   "metadata": {},
   "outputs": [
    {
     "name": "stdout",
     "output_type": "stream",
     "text": [
      "Train accuracy: 1.00\n",
      "Test accuracy: 0.91\n"
     ]
    }
   ],
   "source": [
    "# random forest classifier\n",
    "\n",
    "# Split the data into training and test sets\n",
    "X = df.drop('symptom_type', axis=1)\n",
    "y = df['symptom_type']\n",
    "\n",
    "X_train, X_test, y_train, y_test = train_test_split(X, y, test_size=0.2, random_state=42)\n",
    "\n",
    "# Preprocessing and scaling the data\n",
    "scaler = StandardScaler()\n",
    "X_train = scaler.fit_transform(X_train)\n",
    "X_test = scaler.transform(X_test)\n",
    "\n",
    "# Train a machine learning model | support vector machine (SVM)\n",
    "model = RandomForestClassifier(n_estimators=100, random_state=42)\n",
    "model.fit(X_train, y_train)\n",
    "\n",
    "# Evaluate the model\n",
    "train_acc = model.score(X_train, y_train)\n",
    "test_acc = model.score(X_test, y_test)\n",
    "\n",
    "print(f\"Train accuracy: {train_acc:.2f}\")\n",
    "print(f\"Test accuracy: {test_acc:.2f}\")"
   ]
  },
  {
   "cell_type": "code",
   "execution_count": 15,
   "id": "5df31dee",
   "metadata": {},
   "outputs": [
    {
     "name": "stdout",
     "output_type": "stream",
     "text": [
      "Actual:\t\t[0, 0, 0, 1, 2, 0, 1, 1, 0, 0]\n",
      "Predicted:\t[0, 0, 0, 0, 2, 0, 1, 1, 0, 0]\n"
     ]
    },
    {
     "name": "stderr",
     "output_type": "stream",
     "text": [
      "/var/folders/_r/33n0_r6j30zdld79w7tl1h6c0000gn/T/ipykernel_17064/1633690795.py:11: FutureWarning: The behavior of `series[i:j]` with an integer-dtype index is deprecated. In a future version, this will be treated as *label-based* indexing, consistent with e.g. `series[i]` lookups. To retain the old behavior, use `series.iloc[i:j]`. To get the future behavior, use `series.loc[i:j]`.\n",
      "  print(f'Actual:\\t\\t{list(y_test[:10])}')\n"
     ]
    }
   ],
   "source": [
    "# create classifier\n",
    "classifier = RandomForestClassifier(n_estimators=100, random_state=42)\n",
    "\n",
    "# fit the model to the training data\n",
    "classifier.fit(X_train, y_train)\n",
    "\n",
    "# make predictions on the test data\n",
    "predictions = classifier.predict(X_test)\n",
    "\n",
    "# Print the first 10 actual and predicted values\n",
    "print(f'Actual:\\t\\t{list(y_test[:10])}')\n",
    "print(f'Predicted:\\t{list(predictions[:10])}')"
   ]
  },
  {
   "cell_type": "code",
   "execution_count": 12,
   "id": "c1ab5ebe",
   "metadata": {},
   "outputs": [
    {
     "name": "stdout",
     "output_type": "stream",
     "text": [
      "Accuracy: 0.94\n",
      "Precision: 0.92\n",
      "Recall: 0.92\n",
      "F1: 0.92\n"
     ]
    }
   ],
   "source": [
    "# Calculate the confusion matrix\n",
    "cm = confusion_matrix(y_test, predictions)\n",
    "\n",
    "# Extract the number of true negatives, false positives, false negatives, and true positives\n",
    "tn = cm[0][0]\n",
    "fp = cm[0][1]\n",
    "fn = cm[1][0]\n",
    "tp = cm[1][1]\n",
    "\n",
    "# Calculate the accuracy\n",
    "accuracy = (tp + tn) / (tp + tn + fp + fn)\n",
    "\n",
    "# Calculate the precision\n",
    "precision = tp / (tp + fp)\n",
    "\n",
    "# Calculate the recall\n",
    "recall = tp / (tp + fn)\n",
    "\n",
    "# Calculate the f1 score\n",
    "f1 = 2 * (precision * recall) / (precision + recall)\n",
    "\n",
    "# Print the accuracy, precision, recall, and f1 score\n",
    "print(f\"Accuracy: {accuracy:.2f}\")\n",
    "print(f\"Precision: {precision:.2f}\")\n",
    "print(f\"Recall: {recall:.2f}\")\n",
    "print(f\"F1: {f1:.2f}\")\n"
   ]
  },
  {
   "cell_type": "code",
   "execution_count": 13,
   "id": "f1617e6a",
   "metadata": {},
   "outputs": [
    {
     "data": {
      "image/png": "[encoded data removed]",
      "text/plain": [
       "<Figure size 640x480 with 2 Axes>"
      ]
     },
     "metadata": {},
     "output_type": "display_data"
    }
   ],
   "source": [
    "# Plot the confusion matrix using a heatmap\n",
    "sns.heatmap(cm, annot=True)\n",
    "plt.show()"
   ]
  },
  {
   "cell_type": "code",
   "execution_count": 14,
   "id": "1a8c8787",
   "metadata": {},
   "outputs": [],
   "source": [
    "# Save the model to a file\n",
    "with open('RandomForestClassifier.pkl', 'wb') as file:\n",
    "    pickle.dump(model, file)"
   ]
  },
  {
   "cell_type": "code",
   "execution_count": null,
   "id": "598ec7ed",
   "metadata": {},
   "outputs": [],
   "source": []
  }
 ],
 "metadata": {
  "kernelspec": {
   "display_name": "project-4",
   "language": "python",
   "name": "python3"
  },
  "language_info": {
   "codemirror_mode": {
    "name": "ipython",
    "version": 3
   },
   "file_extension": ".py",
   "mimetype": "text/x-python",
   "name": "python",
   "nbconvert_exporter": "python",
   "pygments_lexer": "ipython3",
   "version": "3.10.8"
  },
  "vscode": {
   "interpreter": {
    "hash": "046794b2ecc5e4975d107f4bb8cebdb6afc929164a39b2843cc2cedc2138f45e"
   }
  }
 },
 "nbformat": 4,
 "nbformat_minor": 5
}
